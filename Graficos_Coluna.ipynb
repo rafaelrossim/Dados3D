{
 "cells": [
  {
   "cell_type": "markdown",
   "id": "d39ca6d0-3528-433b-bd8b-7fccc7c1b915",
   "metadata": {},
   "source": [
    "Gráficos de Coluna"
   ]
  },
  {
   "cell_type": "code",
   "execution_count": 43,
   "id": "5d1848af-83ab-409c-ad66-d7e0e9d0889a",
   "metadata": {},
   "outputs": [],
   "source": [
    "#import libs\n",
    "import matplotlib.pyplot as plt\n",
    "from numpy import*"
   ]
  },
  {
   "cell_type": "code",
   "execution_count": 44,
   "id": "07497f47-d554-4784-bb95-a0a2f8ecb2ef",
   "metadata": {},
   "outputs": [],
   "source": [
    "#declaração de variáveis\n",
    "legenda = ['Aluno1', 'Aluno2', 'Aluno3', 'Aluno4', 'Aluno5']\n",
    "notas_p1 = [80, 55, 100, 20, 7]\n",
    "notas_p2 = [38, 44, 90, 80, 95]\n",
    "\n",
    "largura = 0.3\n",
    "\n",
    "x = arange(len(legenda)) #localização das legendas no eixo x"
   ]
  },
  {
   "cell_type": "markdown",
   "id": "6a7b9e9e-6625-4c90-a1e9-a7efdbf1eaf0",
   "metadata": {},
   "source": [
    "Mostrando gráficos"
   ]
  },
  {
   "cell_type": "code",
   "execution_count": 45,
   "id": "a709e5da-87de-42ab-9f60-fcfba5282235",
   "metadata": {},
   "outputs": [
    {
     "data": {
      "image/png": "[encoded data removed]",
      "text/plain": [
       "<Figure size 432x288 with 1 Axes>"
      ]
     },
     "metadata": {
      "needs_background": "light"
     },
     "output_type": "display_data"
    },
    {
     "data": {
      "text/plain": [
       "<Figure size 432x288 with 0 Axes>"
      ]
     },
     "metadata": {},
     "output_type": "display_data"
    }
   ],
   "source": [
    "#graficos com uma coluna\n",
    "plt.bar(x, notas_p1, width=largura, label=\"Notas P1\", color='#007566')\n",
    "plt.ylabel('Pontos')\n",
    "plt.title('Notas por aluno')\n",
    "plt.xticks(x, legenda) #usando a localização das legendas no eixo x\n",
    "\n",
    "plt.legend()\n",
    "plt.show()\n",
    "\n",
    "#salvando o gráfico como imagem\n",
    "plt.savefig(r\"D:\\Projetos\\Python\\Dados3D\\imgs\\coluna_1.png\", dpi = 300)"
   ]
  },
  {
   "cell_type": "code",
   "execution_count": 46,
   "id": "5c3a2782-06ee-41d1-b0e8-7cdbf974f6ef",
   "metadata": {},
   "outputs": [
    {
     "data": {
      "image/png": "[encoded data removed]",
      "text/plain": [
       "<Figure size 432x288 with 1 Axes>"
      ]
     },
     "metadata": {
      "needs_background": "light"
     },
     "output_type": "display_data"
    },
    {
     "data": {
      "text/plain": [
       "<Figure size 432x288 with 0 Axes>"
      ]
     },
     "metadata": {},
     "output_type": "display_data"
    }
   ],
   "source": [
    "#graficos com duas colunas e anotações\n",
    "grafico1 = plt.bar(x - largura/2, notas_p1, width=largura, label=\"Notas P1\", color='#007566')\n",
    "grafico2 = plt.bar(x + largura/2, notas_p2, width=largura, label=\"Notas P2\", color='#589A8D')\n",
    "\n",
    "plt.ylabel('Pontos')\n",
    "plt.title('Notas por aluno')\n",
    "plt.xticks(x, legenda)\n",
    "\n",
    "#definindo função\n",
    "def legenda_automatica(grafico):\n",
    "    \"\"\"adciona a legenda acima de cada coluna no gráfico, respeitando a altura\"\"\"\n",
    "    for i in grafico:\n",
    "        altura = i.get_height() #descobrindo a altura de cada coluna\n",
    "        plt.annotate(f'{altura}', xy=(i.get_x() + i.get_width()/2, altura),\n",
    "        xytext=(0, 2), textcoords='offset points', ha='center')\n",
    "        #plt.annotade = anotação no gráfico\n",
    "        #get_x = descobrindo a posição do eixo x\n",
    "        #et_widht = descobriando a largura da coluna (neste caso eu dividi por 2 para ficar centralizado a coluna)\n",
    "        #xytext=(0, 2) = neste caso o valor vai ser impresso \"2 espaços\" acima do fim da coluna\n",
    "        #textcoords='offsetpoints' = coordenadas do texto, respeitando o annotade de cima\n",
    "\n",
    "legenda_automatica(grafico1)\n",
    "legenda_automatica(grafico2)\n",
    "\n",
    "plt.legend()\n",
    "plt.show()\n",
    "\n",
    "#salvando o gráfico como imagem\n",
    "plt.savefig(r\"D:\\Projetos\\Python\\Dados3D\\imgs\\coluna_2.png\", dpi = 300)"
   ]
  },
  {
   "cell_type": "code",
   "execution_count": null,
   "id": "2f5b665a-5ab9-44a1-80a9-4ee4e88c7222",
   "metadata": {},
   "outputs": [],
   "source": []
  }
 ],
 "metadata": {
  "kernelspec": {
   "display_name": "Python 3 (ipykernel)",
   "language": "python",
   "name": "python3"
  },
  "language_info": {
   "codemirror_mode": {
    "name": "ipython",
    "version": 3
   },
   "file_extension": ".py",
   "mimetype": "text/x-python",
   "name": "python",
   "nbconvert_exporter": "python",
   "pygments_lexer": "ipython3",
   "version": "3.9.7"
  }
 },
 "nbformat": 4,
 "nbformat_minor": 5
}
